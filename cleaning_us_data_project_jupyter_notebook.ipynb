{
 "cells": [
  {
   "cell_type": "markdown",
   "metadata": {},
   "source": [
    "**Cleaning US Census Data**"
   ]
  },
  {
   "cell_type": "markdown",
   "metadata": {},
   "source": [
    "Exercise from Codecademy"
   ]
  },
  {
   "cell_type": "markdown",
   "metadata": {},
   "source": [
    "You just got hired as a Data Analyst at the Census Bureau, which collects census data and creates interesting visualizations and insights from it. The first visualization your boss wants you to make is a scatterplot that shows average income in a state vs proportion of women in that state."
   ]
  },
  {
   "cell_type": "markdown",
   "metadata": {},
   "source": [
    "First thing need to be done is import all libraries I will use in this exercise."
   ]
  },
  {
   "cell_type": "code",
   "execution_count": 1,
   "metadata": {},
   "outputs": [],
   "source": [
    "import pandas as pd\n",
    "import numpy as np\n",
    "import matplotlib.pyplot as pyplot\n",
    "import glob"
   ]
  },
  {
   "cell_type": "markdown",
   "metadata": {},
   "source": [
    "\n",
    "It will be easier to inspect this data once we have it in a DataFrame."
   ]
  },
  {
   "cell_type": "markdown",
   "metadata": {},
   "source": [
    "*Using glob, loop through the census files available and load them into DataFrames. Then, concatenate all of those DataFrames together into one DataFrame, called something like us_census.*"
   ]
  },
  {
   "cell_type": "code",
   "execution_count": 2,
   "metadata": {},
   "outputs": [
    {
     "name": "stdout",
     "output_type": "stream",
     "text": [
      "   Unnamed: 0       State  TotalPop             Hispanic                White  \\\n",
      "0           0     Alabama   4830620  3.7516156462584975%     61.878656462585%   \n",
      "1           1      Alaska    733375   5.909580838323351%  60.910179640718574%   \n",
      "2           2     Arizona   6641928  29.565921052631502%  57.120000000000026%   \n",
      "3           3    Arkansas   2958208   6.215474452554738%   71.13781021897813%   \n",
      "4           4  California  38421464  37.291874687968054%   40.21578881677474%   \n",
      "\n",
      "                 Black                Native                Asian  \\\n",
      "0   31.25297619047618%   0.4532312925170065%  1.0502551020408146%   \n",
      "1  2.8485029940119775%    16.39101796407186%   5.450299401197604%   \n",
      "2  3.8509868421052658%     4.35506578947368%   2.876578947368419%   \n",
      "3  18.968759124087573%   0.5229197080291965%  1.1423357664233578%   \n",
      "4   5.677396405391911%  0.40529206190713685%  13.052234148776776%   \n",
      "\n",
      "                Pacific              Income            GenderPop  \n",
      "0  0.03435374149659865%  $43296.35860306644    2341093M_2489527F  \n",
      "1   1.0586826347305378%  $70354.74390243902      384160M_349215F  \n",
      "2  0.16763157894736833%  $54207.82095490716    3299088M_3342840F  \n",
      "3  0.14686131386861315%  $41935.63396778917    1451913M_1506295F  \n",
      "4  0.35141038442336353%  $67264.78230266465  19087135M_19334329F  \n"
     ]
    }
   ],
   "source": [
    "files = glob.glob('states*.csv')\n",
    "us_census = []\n",
    "for filename in files:\n",
    "  data = pd.read_csv(filename)\n",
    "  us_census.append(data)\n",
    "us_census_df = pd.concat(us_census)\n",
    "print(us_census_df.head())"
   ]
  },
  {
   "cell_type": "markdown",
   "metadata": {},
   "source": [
    "*Look at the .columns of the us_census DataFrame.*"
   ]
  },
  {
   "cell_type": "code",
   "execution_count": 3,
   "metadata": {},
   "outputs": [
    {
     "name": "stdout",
     "output_type": "stream",
     "text": [
      "Index(['Unnamed: 0', 'State', 'TotalPop', 'Hispanic', 'White', 'Black',\n",
      "       'Native', 'Asian', 'Pacific', 'Income', 'GenderPop'],\n",
      "      dtype='object')\n"
     ]
    }
   ],
   "source": [
    "print(us_census_df.columns)"
   ]
  },
  {
   "cell_type": "markdown",
   "metadata": {},
   "source": [
    "*Look at the .dtypes of the us_census DataFrame.*"
   ]
  },
  {
   "cell_type": "code",
   "execution_count": 4,
   "metadata": {},
   "outputs": [
    {
     "name": "stdout",
     "output_type": "stream",
     "text": [
      "Unnamed: 0     int64\n",
      "State         object\n",
      "TotalPop       int64\n",
      "Hispanic      object\n",
      "White         object\n",
      "Black         object\n",
      "Native        object\n",
      "Asian         object\n",
      "Pacific       object\n",
      "Income        object\n",
      "GenderPop     object\n",
      "dtype: object\n"
     ]
    }
   ],
   "source": [
    "print(us_census_df.dtypes)"
   ]
  },
  {
   "cell_type": "markdown",
   "metadata": {},
   "source": [
    "*Use regex to turn the Income column into a format that is ready for conversion into a numerical type.*"
   ]
  },
  {
   "cell_type": "code",
   "execution_count": 5,
   "metadata": {},
   "outputs": [
    {
     "name": "stdout",
     "output_type": "stream",
     "text": [
      "Unnamed: 0      int64\n",
      "State          object\n",
      "TotalPop        int64\n",
      "Hispanic       object\n",
      "White          object\n",
      "Black          object\n",
      "Native         object\n",
      "Asian          object\n",
      "Pacific        object\n",
      "Income        float64\n",
      "GenderPop      object\n",
      "dtype: object\n"
     ]
    }
   ],
   "source": [
    "us_census_df.Income = us_census_df['Income'].replace('[\\$,]', '', regex=True)\n",
    "us_census_df.Income = pd.to_numeric(us_census_df.Income)\n",
    "print(us_census_df.dtypes)"
   ]
  },
  {
   "cell_type": "markdown",
   "metadata": {},
   "source": [
    "*Look at the GenderPop column - separate this into two columns, the Men column, and the Women column.*"
   ]
  },
  {
   "cell_type": "markdown",
   "metadata": {},
   "source": [
    "*Convert both of the columns into numerical datatypes.*"
   ]
  },
  {
   "cell_type": "code",
   "execution_count": 6,
   "metadata": {},
   "outputs": [
    {
     "name": "stdout",
     "output_type": "stream",
     "text": [
      "Unnamed: 0      int64\n",
      "State          object\n",
      "TotalPop        int64\n",
      "Hispanic       object\n",
      "White          object\n",
      "Black          object\n",
      "Native         object\n",
      "Asian          object\n",
      "Pacific        object\n",
      "Income        float64\n",
      "GenderPop      object\n",
      "Men             int64\n",
      "Women         float64\n",
      "dtype: object\n",
      "   Unnamed: 0       State  TotalPop             Hispanic                White  \\\n",
      "0           0     Alabama   4830620  3.7516156462584975%     61.878656462585%   \n",
      "1           1      Alaska    733375   5.909580838323351%  60.910179640718574%   \n",
      "2           2     Arizona   6641928  29.565921052631502%  57.120000000000026%   \n",
      "3           3    Arkansas   2958208   6.215474452554738%   71.13781021897813%   \n",
      "4           4  California  38421464  37.291874687968054%   40.21578881677474%   \n",
      "\n",
      "                 Black                Native                Asian  \\\n",
      "0   31.25297619047618%   0.4532312925170065%  1.0502551020408146%   \n",
      "1  2.8485029940119775%    16.39101796407186%   5.450299401197604%   \n",
      "2  3.8509868421052658%     4.35506578947368%   2.876578947368419%   \n",
      "3  18.968759124087573%   0.5229197080291965%  1.1423357664233578%   \n",
      "4   5.677396405391911%  0.40529206190713685%  13.052234148776776%   \n",
      "\n",
      "                Pacific        Income            GenderPop       Men  \\\n",
      "0  0.03435374149659865%  43296.358603    2341093M_2489527F   2341093   \n",
      "1   1.0586826347305378%  70354.743902      384160M_349215F    384160   \n",
      "2  0.16763157894736833%  54207.820955    3299088M_3342840F   3299088   \n",
      "3  0.14686131386861315%  41935.633968    1451913M_1506295F   1451913   \n",
      "4  0.35141038442336353%  67264.782303  19087135M_19334329F  19087135   \n",
      "\n",
      "        Women  \n",
      "0   2489527.0  \n",
      "1    349215.0  \n",
      "2   3342840.0  \n",
      "3   1506295.0  \n",
      "4  19334329.0  \n"
     ]
    }
   ],
   "source": [
    "gender_split = us_census_df.GenderPop.str.split('_')\n",
    "us_census_df['Men'] = gender_split.str.get(0)\n",
    "us_census_df['Women'] = gender_split.str.get(1)\n",
    "us_census_df['Men'] = us_census_df.Men.str[0:-1]\n",
    "us_census_df['Women'] = us_census_df.Women.str[0:-1]\n",
    "us_census_df.Men = pd.to_numeric(us_census_df.Men)\n",
    "us_census_df.Women = pd.to_numeric(us_census_df.Women)\n",
    "print(us_census_df.dtypes)\n",
    "print(us_census_df.head())"
   ]
  },
  {
   "cell_type": "markdown",
   "metadata": {},
   "source": [
    "*Check the number of NaN value in Women column and fill in by using pandas’ .fillna() function.*"
   ]
  },
  {
   "cell_type": "code",
   "execution_count": 7,
   "metadata": {},
   "outputs": [
    {
     "name": "stdout",
     "output_type": "stream",
     "text": [
      "False    57\n",
      "True      3\n",
      "Name: Women, dtype: int64\n"
     ]
    }
   ],
   "source": [
    "women_nan = us_census_df.Women.isna()\n",
    "print(women_nan.value_counts())"
   ]
  },
  {
   "cell_type": "code",
   "execution_count": 8,
   "metadata": {},
   "outputs": [
    {
     "name": "stdout",
     "output_type": "stream",
     "text": [
      "False    60\n",
      "Name: Women, dtype: int64\n"
     ]
    }
   ],
   "source": [
    "us_census_df = us_census_df.fillna(value = {'Women': us_census_df.TotalPop - us_census_df.Men})\n",
    "print(us_census_df.Women.isna().value_counts())"
   ]
  },
  {
   "cell_type": "markdown",
   "metadata": {},
   "source": [
    "*Check for duplicates and if they occur drop those duplicates using the .drop_duplicates() function.*"
   ]
  },
  {
   "cell_type": "code",
   "execution_count": 9,
   "metadata": {},
   "outputs": [
    {
     "name": "stdout",
     "output_type": "stream",
     "text": [
      "False    60\n",
      "dtype: int64\n"
     ]
    }
   ],
   "source": [
    "duplicates = us_census_df.duplicated()\n",
    "#print(duplicates)\n",
    "print(duplicates.value_counts())"
   ]
  },
  {
   "cell_type": "markdown",
   "metadata": {},
   "source": [
    "*Make the scatterplot that shows average income in a state vs proportion of women in that state.*"
   ]
  },
  {
   "cell_type": "code",
   "execution_count": 10,
   "metadata": {},
   "outputs": [
    {
     "data": {
      "image/png": "[encoded data removed]",
      "text/plain": [
       "<Figure size 432x288 with 1 Axes>"
      ]
     },
     "metadata": {
      "needs_background": "light"
     },
     "output_type": "display_data"
    }
   ],
   "source": [
    "scatter = pyplot.scatter(us_census_df.Women, us_census_df.Income)\n",
    "pyplot.show()"
   ]
  },
  {
   "cell_type": "markdown",
   "metadata": {},
   "source": [
    "*Your boss wants you to make a bunch of histograms out of the race data that you have.*"
   ]
  },
  {
   "cell_type": "markdown",
   "metadata": {},
   "source": [
    "*Remove % sign in all columns: Hispanic, White, Black, Native, Asian, Pacific*"
   ]
  },
  {
   "cell_type": "code",
   "execution_count": 11,
   "metadata": {},
   "outputs": [
    {
     "name": "stdout",
     "output_type": "stream",
     "text": [
      "   Unnamed: 0       State  TotalPop            Hispanic               White  \\\n",
      "0           0     Alabama   4830620  3.7516156462584975     61.878656462585   \n",
      "1           1      Alaska    733375   5.909580838323351  60.910179640718574   \n",
      "2           2     Arizona   6641928  29.565921052631502  57.120000000000026   \n",
      "3           3    Arkansas   2958208   6.215474452554738   71.13781021897813   \n",
      "4           4  California  38421464  37.291874687968054   40.21578881677474   \n",
      "\n",
      "                Black               Native               Asian  \\\n",
      "0   31.25297619047618   0.4532312925170065  1.0502551020408146   \n",
      "1  2.8485029940119775    16.39101796407186   5.450299401197604   \n",
      "2  3.8509868421052658     4.35506578947368   2.876578947368419   \n",
      "3  18.968759124087573   0.5229197080291965  1.1423357664233578   \n",
      "4   5.677396405391911  0.40529206190713685  13.052234148776776   \n",
      "\n",
      "               Pacific        Income            GenderPop       Men  \\\n",
      "0  0.03435374149659865  43296.358603    2341093M_2489527F   2341093   \n",
      "1   1.0586826347305378  70354.743902      384160M_349215F    384160   \n",
      "2  0.16763157894736833  54207.820955    3299088M_3342840F   3299088   \n",
      "3  0.14686131386861315  41935.633968    1451913M_1506295F   1451913   \n",
      "4  0.35141038442336353  67264.782303  19087135M_19334329F  19087135   \n",
      "\n",
      "        Women  \n",
      "0   2489527.0  \n",
      "1    349215.0  \n",
      "2   3342840.0  \n",
      "3   1506295.0  \n",
      "4  19334329.0  \n"
     ]
    }
   ],
   "source": [
    "us_census_df.Hispanic = us_census_df['Hispanic'].replace('[\\%,]', '', regex=True)\n",
    "us_census_df.White = us_census_df['White'].replace('[\\%,]', '', regex=True)\n",
    "us_census_df.Black = us_census_df['Black'].replace('[\\%,]', '', regex=True)\n",
    "us_census_df.Native = us_census_df['Native'].replace('[\\%,]', '', regex=True)\n",
    "us_census_df.Asian = us_census_df['Asian'].replace('[\\%,]', '', regex=True)\n",
    "us_census_df.Pacific = us_census_df['Pacific'].replace('[\\%,]', '', regex=True)\n",
    "print(us_census_df.head())"
   ]
  },
  {
   "cell_type": "markdown",
   "metadata": {},
   "source": [
    "*Change the data type from object to numeric in those columns*"
   ]
  },
  {
   "cell_type": "code",
   "execution_count": 12,
   "metadata": {},
   "outputs": [
    {
     "name": "stdout",
     "output_type": "stream",
     "text": [
      "Unnamed: 0      int64\n",
      "State          object\n",
      "TotalPop        int64\n",
      "Hispanic      float64\n",
      "White         float64\n",
      "Black         float64\n",
      "Native        float64\n",
      "Asian         float64\n",
      "Pacific       float64\n",
      "Income        float64\n",
      "GenderPop      object\n",
      "Men             int64\n",
      "Women         float64\n",
      "dtype: object\n"
     ]
    }
   ],
   "source": [
    "us_census_df.Hispanic = pd.to_numeric(us_census_df.Hispanic)\n",
    "us_census_df.White = pd.to_numeric(us_census_df.White)\n",
    "us_census_df.Black = pd.to_numeric(us_census_df.Black)\n",
    "us_census_df.Native = pd.to_numeric(us_census_df.Native)\n",
    "us_census_df.Asian = pd.to_numeric(us_census_df.Asian)\n",
    "us_census_df.Pacific = pd.to_numeric(us_census_df.Pacific)\n",
    "print(us_census_df.dtypes)"
   ]
  },
  {
   "cell_type": "markdown",
   "metadata": {},
   "source": [
    "*Check the number of NaN value in those columns and fill in by using pandas’ .fillna() function.*"
   ]
  },
  {
   "cell_type": "code",
   "execution_count": 13,
   "metadata": {},
   "outputs": [
    {
     "name": "stdout",
     "output_type": "stream",
     "text": [
      "False    60\n",
      "Name: Hispanic, dtype: int64\n",
      "False    60\n",
      "Name: White, dtype: int64\n",
      "False    60\n",
      "Name: Black, dtype: int64\n",
      "False    60\n",
      "Name: Native, dtype: int64\n",
      "False    60\n",
      "Name: Asian, dtype: int64\n",
      "False    55\n",
      "True      5\n",
      "Name: Pacific, dtype: int64\n"
     ]
    }
   ],
   "source": [
    "hispanic = us_census_df.Hispanic.isna()\n",
    "#print(hispanic)\n",
    "print(hispanic.value_counts())\n",
    "\n",
    "white = us_census_df.White.isna()\n",
    "#print(white)\n",
    "print(white.value_counts())\n",
    "\n",
    "black = us_census_df.Black.isna()\n",
    "#print(black)\n",
    "print(black.value_counts())\n",
    "\n",
    "native = us_census_df.Native.isna()\n",
    "#print(native)\n",
    "print(native.value_counts())\n",
    "\n",
    "asian = us_census_df.Asian.isna()\n",
    "#print(asian)\n",
    "print(asian.value_counts())\n",
    "\n",
    "pacific = us_census_df.Pacific.isna()\n",
    "#print(pacific)\n",
    "print(pacific.value_counts())"
   ]
  },
  {
   "cell_type": "code",
   "execution_count": 14,
   "metadata": {},
   "outputs": [
    {
     "name": "stdout",
     "output_type": "stream",
     "text": [
      "False    60\n",
      "Name: Pacific, dtype: int64\n"
     ]
    }
   ],
   "source": [
    "us_census_df = us_census_df.fillna( value = {'Pacific' : us_census_df.Pacific.mean()})\n",
    "pacific = us_census_df.Pacific.isna()\n",
    "#print(pacific)\n",
    "print(pacific.value_counts())"
   ]
  },
  {
   "cell_type": "markdown",
   "metadata": {},
   "source": [
    "*Check for duplicates and if they occur drop those duplicates using the .drop_duplicates() function.*"
   ]
  },
  {
   "cell_type": "code",
   "execution_count": 15,
   "metadata": {},
   "outputs": [
    {
     "name": "stdout",
     "output_type": "stream",
     "text": [
      "False    60\n",
      "dtype: int64\n"
     ]
    }
   ],
   "source": [
    "duplicates2 = us_census_df.duplicated()\n",
    "#print(duplicates2)\n",
    "print(duplicates2.value_counts())"
   ]
  },
  {
   "cell_type": "markdown",
   "metadata": {},
   "source": [
    "*Plotting the histogram*"
   ]
  },
  {
   "cell_type": "code",
   "execution_count": 16,
   "metadata": {},
   "outputs": [
    {
     "data": {
      "image/png": "[encoded data removed]",
      "text/plain": [
       "<Figure size 432x288 with 6 Axes>"
      ]
     },
     "metadata": {
      "needs_background": "light"
     },
     "output_type": "display_data"
    }
   ],
   "source": [
    "fig, ax = pyplot.subplots(2,3)\n",
    "ax[0][0].hist(us_census_df['Hispanic'])\n",
    "ax[0][1].hist(us_census_df['Pacific'])\n",
    "ax[0][2].hist(us_census_df['White'])\n",
    "ax[1][0].hist(us_census_df['Black'])\n",
    "ax[1][1].hist(us_census_df['Native'])\n",
    "ax[1][2].hist(us_census_df['Asian'])\n",
    "ax[0][0].set(title='Hispanic', xlabel='% of population', ylabel='Frequency of occurrence')\n",
    "ax[0][1].set(title='Pacific', xlabel='% of population', ylabel='Frequency of occurrence')\n",
    "ax[0][2].set(title='White', xlabel='% of population', ylabel='Frequency of occurrence')\n",
    "ax[1][0].set(title='Black', xlabel='% of population', ylabel='Frequency of occurrence')\n",
    "ax[1][1].set(title='Native', xlabel='% of population', ylabel='Frequency of occurrence')\n",
    "ax[1][2].set(title='Asian', xlabel='% of population', ylabel='Frequency of occurrence')\n",
    "fig.suptitle('Histograms for different races', y=1.05, fontsize=15)\n",
    "fig.tight_layout()\n",
    "pyplot.show()"
   ]
  }
 ],
 "metadata": {
  "kernelspec": {
   "display_name": "Python 3",
   "language": "python",
   "name": "python3"
  },
  "language_info": {
   "codemirror_mode": {
    "name": "ipython",
    "version": 3
   },
   "file_extension": ".py",
   "mimetype": "text/x-python",
   "name": "python",
   "nbconvert_exporter": "python",
   "pygments_lexer": "ipython3",
   "version": "3.8.3"
  }
 },
 "nbformat": 4,
 "nbformat_minor": 4
}
